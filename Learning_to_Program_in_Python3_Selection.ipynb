{
 "cells": [
  {
   "cell_type": "markdown",
   "metadata": {},
   "source": [
    "# Learning_to_Program_in_Python3_Selection\n"
   ]
  },
  {
   "cell_type": "markdown",
   "metadata": {},
   "source": [
    "### Programming constructs"
   ]
  },
  {
   "cell_type": "markdown",
   "metadata": {},
   "source": [
    "There are three basic ways of controlling the order in which program statements are carried out:\n",
    "\n",
    "1)Sequence\n",
    "\n",
    "2)Selection\n",
    "\n",
    "3)Iteration"
   ]
  },
  {
   "cell_type": "markdown",
   "metadata": {},
   "source": [
    "Sequence - one after the other in the order in which they were to be executed."
   ]
  },
  {
   "cell_type": "markdown",
   "metadata": {},
   "source": [
    "Selection statement needs to control program flow. These statements all start with the keyword \"if\", followed by a condition to be tested."
   ]
  },
  {
   "cell_type": "markdown",
   "metadata": {},
   "source": [
    "if shape == \"circle\":\n",
    "    area = PI * r ** 2\n",
    "else:\n",
    "    area = length * breadth"
   ]
  },
  {
   "cell_type": "markdown",
   "metadata": {},
   "source": [
    "Note the colons at the end of the \"if\" and \"else\" conditions, and the indentation of statements following each of these lines, all of which are mandatory."
   ]
  },
  {
   "cell_type": "markdown",
   "metadata": {},
   "source": [
    "### Boolean conditions"
   ]
  },
  {
   "cell_type": "markdown",
   "metadata": {},
   "source": [
    "Boolean conditions may be used in if statements:"
   ]
  },
  {
   "cell_type": "code",
   "execution_count": null,
   "metadata": {},
   "outputs": [],
   "source": [
    "#     == equal to\n",
    "#     != not equal to\n",
    "#     > greater than\n",
    "#     >= greater than or equal\n",
    "#     < less than\n",
    "#     <= less than or equal"
   ]
  },
  {
   "cell_type": "markdown",
   "metadata": {},
   "source": [
    "Exercise"
   ]
  },
  {
   "cell_type": "markdown",
   "metadata": {},
   "source": [
    "Write Python statements to input two numbers and assign the smaller of the two to a variable called minimum."
   ]
  },
  {
   "cell_type": "code",
   "execution_count": null,
   "metadata": {},
   "outputs": [],
   "source": []
  },
  {
   "cell_type": "markdown",
   "metadata": {},
   "source": [
    "### Using a Boolean variable in condition statement"
   ]
  },
  {
   "cell_type": "code",
   "execution_count": 3,
   "metadata": {},
   "outputs": [],
   "source": [
    "validAmount = True"
   ]
  },
  {
   "cell_type": "markdown",
   "metadata": {},
   "source": [
    "A Boolean variable can only take the value True or False."
   ]
  },
  {
   "cell_type": "markdown",
   "metadata": {},
   "source": [
    "We co uld write a conditional statement:"
   ]
  },
  {
   "cell_type": "markdown",
   "metadata": {},
   "source": [
    "if amount < 10:\n",
    "\n",
    "    validAmount = True"
   ]
  },
  {
   "cell_type": "markdown",
   "metadata": {},
   "source": [
    "Later in the program the Boolean variable 'validAmount' could be tested:"
   ]
  },
  {
   "cell_type": "markdown",
   "metadata": {},
   "source": [
    "if validAmount = True:\n",
    "    \n",
    "    print('This is a valid amount')"
   ]
  },
  {
   "cell_type": "markdown",
   "metadata": {},
   "source": [
    "The statement can also be written more simply as:\n"
   ]
  },
  {
   "cell_type": "code",
   "execution_count": 4,
   "metadata": {},
   "outputs": [
    {
     "name": "stdout",
     "output_type": "stream",
     "text": [
      "This is a valid amount\n"
     ]
    }
   ],
   "source": [
    "if validAmount:\n",
    "    print('This is a valid amount')"
   ]
  },
  {
   "cell_type": "markdown",
   "metadata": {},
   "source": [
    "### The elif clause"
   ]
  },
  {
   "cell_type": "markdown",
   "metadata": {},
   "source": [
    "This is useful if there are several possible routes through the program depending on the value of variable."
   ]
  },
  {
   "cell_type": "markdown",
   "metadata": {},
   "source": [
    "### Example 1"
   ]
  },
  {
   "cell_type": "markdown",
   "metadata": {},
   "source": [
    "Student are assigned a grade of A, B, C or F depending on the average mark they have achieved over a number of assignments."
   ]
  },
  {
   "cell_type": "code",
   "execution_count": 5,
   "metadata": {},
   "outputs": [
    {
     "name": "stdout",
     "output_type": "stream",
     "text": [
      "Enter mark: 65\n",
      "Grade is B\n"
     ]
    }
   ],
   "source": [
    "#Program name: Ch 3 Example 1 assigning student grades\n",
    "#program assigns a grade of A, B, C or F depending on mark entered by user\n",
    "\n",
    "mark = int(input(\"Enter mark: \"))\n",
    "if mark >=75:\n",
    "    grade = \"A\"\n",
    "elif mark >=60:\n",
    "    grade = \"B\"\n",
    "elif mark >=50:\n",
    "    grade = \"C\"\n",
    "else:\n",
    "    grade = \"F\"\n",
    "print(\"Grade is\",grade)"
   ]
  },
  {
   "cell_type": "markdown",
   "metadata": {},
   "source": [
    "A particular 'elif' is tested only when all previous 'if' and 'elif' statements ate False. When one 'if' or 'elif' is True, all subsequent tests ate skipped."
   ]
  },
  {
   "cell_type": "markdown",
   "metadata": {},
   "source": [
    "### Nested selections statements"
   ]
  },
  {
   "cell_type": "markdown",
   "metadata": {},
   "source": [
    "If there is more than one condition to be tested, you can use a nested selection statement."
   ]
  },
  {
   "cell_type": "markdown",
   "metadata": {},
   "source": [
    "### Example 2"
   ]
  },
  {
   "cell_type": "code",
   "execution_count": 6,
   "metadata": {},
   "outputs": [
    {
     "name": "stdout",
     "output_type": "stream",
     "text": [
      "Enter 'Pass' if testResult is OK: Pass\n",
      "Enter 'True' if interviewOK overwise enter 'False': True\n"
     ]
    }
   ],
   "source": [
    "testResult = (input(\"Enter 'Pass' if testResult is OK: \"))\n",
    "interviewOK = (input(\"Enter 'True' if interviewOK overwise enter 'False': \"))"
   ]
  },
  {
   "cell_type": "code",
   "execution_count": 7,
   "metadata": {},
   "outputs": [
    {
     "name": "stdout",
     "output_type": "stream",
     "text": [
      "Hired\n"
     ]
    }
   ],
   "source": [
    "if testResult == \"Pass\":\n",
    "    if interviewOK:\n",
    "        print(\"Hired\")\n",
    "    else:\n",
    "        print(\"Rejected\")\n",
    "else:\n",
    "    print(\"Resit test\")"
   ]
  },
  {
   "cell_type": "markdown",
   "metadata": {},
   "source": [
    "### Complex Boolean expressions"
   ]
  },
  {
   "cell_type": "markdown",
   "metadata": {},
   "source": [
    "Boolean expressions may include and, or , not"
   ]
  },
  {
   "cell_type": "markdown",
   "metadata": {},
   "source": [
    "and    - Returns True if both conditions are true\n",
    "\n",
    "or     - Returns True if either or both conditions are true\n",
    "\n",
    "not    - A true expression becomes False and vice versa"
   ]
  },
  {
   "cell_type": "markdown",
   "metadata": {},
   "source": [
    "### Example 3"
   ]
  },
  {
   "cell_type": "code",
   "execution_count": 9,
   "metadata": {},
   "outputs": [
    {
     "name": "stdout",
     "output_type": "stream",
     "text": [
      "Example 3a\n",
      "Enter the day of the week: Monday\n",
      "WeekendRate False\n"
     ]
    }
   ],
   "source": [
    "#Program name: Ch 3 Example 3 Selection statements.py\n",
    "#Illustrates different selection statements\n",
    "\n",
    "print(\"Example 3a\")\n",
    "      \n",
    "weekendRate = False\n",
    "day = input(\"Enter the day of the week: \")\n",
    "if day == \"Saturday\" or day == \"Sunday\":\n",
    "    weekendRate = True\n",
    "print(\"WeekendRate\",weekendRate)"
   ]
  },
  {
   "cell_type": "code",
   "execution_count": 14,
   "metadata": {},
   "outputs": [
    {
     "name": "stdout",
     "output_type": "stream",
     "text": [
      "\n",
      "Example 3b: \n",
      "Enter 'True' if it is a weekendDay in other case enter 'False': False\n",
      "WeekendRate False\n"
     ]
    }
   ],
   "source": [
    "#Program name: Ch 3 Example 3 Selection statements.py\n",
    "#Illustrates different selection statements\n",
    "\n",
    "print (\"\\nExample 3b: \")\n",
    "weekendRate = (input(\"Enter 'True' if it is a weekendDay in other case enter 'False': \"))\n",
    "if (not day == \"Saturday\") and (not day == \"Sunday\"):\n",
    "    weekendRate = False\n",
    "print(\"WeekendRate\",weekendRate)"
   ]
  },
  {
   "cell_type": "code",
   "execution_count": 15,
   "metadata": {},
   "outputs": [
    {
     "name": "stdout",
     "output_type": "stream",
     "text": [
      "\n",
      "Example 3c\n",
      "Enter test result, Pass or Fail: Fail\n",
      "Enter interview result, Pass or Fail: Pass\n"
     ]
    }
   ],
   "source": [
    "print (\"\\nExample 3c\")\n",
    "testResult = input(\"Enter test result, Pass or Fail: \")\n",
    "interview = input(\"Enter interview result, Pass or Fail: \")"
   ]
  },
  {
   "cell_type": "code",
   "execution_count": 16,
   "metadata": {},
   "outputs": [
    {
     "name": "stdout",
     "output_type": "stream",
     "text": [
      "Resit test\n"
     ]
    }
   ],
   "source": [
    "if testResult == \"Pass\":\n",
    "    if interviewOK:\n",
    "        print(\"Hired\")\n",
    "    else:\n",
    "        print(\"Rejected\")\n",
    "else:\n",
    "    print(\"Resit test\")"
   ]
  },
  {
   "cell_type": "markdown",
   "metadata": {},
   "source": [
    "### Importing library modules"
   ]
  },
  {
   "cell_type": "markdown",
   "metadata": {},
   "source": [
    "We used some built-in functions such as int, str, float."
   ]
  },
  {
   "cell_type": "markdown",
   "metadata": {},
   "source": [
    "In addition to these , Python has a library of useful modules such as: \n",
    "\n",
    "datetime\n",
    "\n",
    "time\n",
    "\n",
    "random\n",
    "\n",
    "sqlite3\n",
    "\n",
    "tkinter\n",
    "\n",
    "pdb (a debugging module),\n",
    "\n",
    "which can be imported into a program."
   ]
  },
  {
   "cell_type": "markdown",
   "metadata": {},
   "source": [
    "### Generating a random number"
   ]
  },
  {
   "cell_type": "markdown",
   "metadata": {},
   "source": [
    "The randint() function generates a random number. It is a function included in the random module and to use it."
   ]
  },
  {
   "cell_type": "markdown",
   "metadata": {},
   "source": [
    "You must first import the module by including the statement:"
   ]
  },
  {
   "cell_type": "code",
   "execution_count": 17,
   "metadata": {},
   "outputs": [],
   "source": [
    "import random"
   ]
  },
  {
   "cell_type": "markdown",
   "metadata": {},
   "source": [
    "at the start of the program. This imports the module called random."
   ]
  },
  {
   "cell_type": "markdown",
   "metadata": {},
   "source": [
    "Then in your program, to generate a random integer between a range of integers 'a' and 'b' you write:"
   ]
  },
  {
   "cell_type": "markdown",
   "metadata": {},
   "source": [
    "num = random.randint(a , b)"
   ]
  },
  {
   "cell_type": "markdown",
   "metadata": {},
   "source": [
    "### Example 4"
   ]
  },
  {
   "cell_type": "markdown",
   "metadata": {},
   "source": [
    "Generate two random numbers between 1 and 6 to represent the throw of two dice.\n",
    "If the numbers are equal, print it."
   ]
  },
  {
   "cell_type": "code",
   "execution_count": 19,
   "metadata": {},
   "outputs": [
    {
     "name": "stdout",
     "output_type": "stream",
     "text": [
      "Not a double 4 3\n"
     ]
    }
   ],
   "source": [
    "die1 = random.randint(1, 6)\n",
    "die2 = random.randint(1, 6)\n",
    "if die1 == die2:\n",
    "    print(\"You threw a double\", die1)\n",
    "else:\n",
    "    print(\"Not a double\", die1, die2)"
   ]
  },
  {
   "cell_type": "markdown",
   "metadata": {},
   "source": [
    "## Exercises"
   ]
  },
  {
   "cell_type": "markdown",
   "metadata": {},
   "source": [
    "####  1. Write a program to allow the user to enter the lenght and width of a rectangle and calculate the area. If length and width are equal, print \"This is a square of area\". Otherwise, print \"This is a rectangle of area\"."
   ]
  },
  {
   "cell_type": "code",
   "execution_count": null,
   "metadata": {},
   "outputs": [],
   "source": [
    "#Program name: Ch 3 Exercise 1 area of square or rectangle.py\n",
    "#Calculate area of shape\n",
    "\n",
    "length = float(input(\"Enter length of rectangle: \"))\n",
    "width = float(input(\"Enter width of rectangle: \"))\n",
    "area = round(length*width,2)\n",
    "if length == width:\n",
    "    print(\"This is a square of area\",area)\n",
    "else:\n",
    "    print(\"This is a rectangle of area\",area)        "
   ]
  },
  {
   "cell_type": "markdown",
   "metadata": {},
   "source": [
    "#### 2. Write a program to display a menu of options:\n",
    "#### Menu\n",
    "#### 1. Music\n",
    "#### 2. History\n",
    "#### 3. Design and Technology\n",
    "#### 4. Exit\n",
    "#### Please enter your choice:\n",
    "#### The user then entera a choice and the program prints a message such as \"You chose History\". If  they choose option 4, the program prints \"Goodbye\"."
   ]
  },
  {
   "cell_type": "code",
   "execution_count": null,
   "metadata": {},
   "outputs": [],
   "source": [
    "#Program name: Ch 3 Exercise 2 menu of subject choices.py\n",
    "\n",
    "print(\"Menu\")\n",
    "print(\"1. Music\")\n",
    "print(\"2. History\")\n",
    "print(\"3. Design and Technology\")\n",
    "print(\"4. Exit\")\n",
    "choice = input(\"\\nPlease enter your choice: \")\n",
    "\n",
    "if choice == \"1\":\n",
    "    print(\"Music is the food of love\")\n",
    "elif choice == \"2\":\n",
    "    print(\"History is bunk\")\n",
    "elif choice ==\"3\":\n",
    "    print(\"Not as easy as you think...\")\n",
    "else:\n",
    "    print(\"Goodbye\")\n",
    "\n",
    "input(\"\\nPress Enter to exit \")"
   ]
  },
  {
   "cell_type": "markdown",
   "metadata": {},
   "source": [
    "3.Write a program to simulate the throw of two dice (each between 1 and 6). Print the number representing the two throws.\n",
    "\n",
    "If the number on the two dice are not equal, the player's score is the sum of the number thrown. Print the score.\n",
    "\n",
    "If the numbes on the two dice are equal, the player's score twice the sum of the number thrown. Print \"You threw a double\", and the score."
   ]
  },
  {
   "cell_type": "code",
   "execution_count": null,
   "metadata": {},
   "outputs": [],
   "source": [
    "#Program name: Ch 3 Exercise 3 throw two dice.py\n",
    "\n",
    "import random\n",
    "\n",
    "num1 = random.randint(1,6)\n",
    "num2 = random.randint(1,6)\n",
    "print(\"You threw\", num1, \" and\", num2)\n",
    "\n",
    "score = num1 + num2\n",
    "if num1 == num2:\n",
    "    print(\"You threw a double\")\n",
    "    print (\"Your score:\", 2*score)\n",
    "else:\n",
    "    print (\"Your score:\", score)"
   ]
  },
  {
   "cell_type": "markdown",
   "metadata": {},
   "source": [
    "4.Write a program to input the value of goods purchased in a shop. A discount is subtracted from the value to find the amount owed.\n",
    "\n",
    "If the value is 200 pounds or more, 10% discount is given.\n",
    "\n",
    "If the value is between 100 and 199.99 pounds, 5% discount is given.\n",
    "\n",
    "Print the value of goods, discount given and amount owed."
   ]
  },
  {
   "cell_type": "code",
   "execution_count": null,
   "metadata": {},
   "outputs": [],
   "source": [
    "#Program name: Ch 3 Exercise 4 discount on goods purchased.py \n",
    "#calculates discount depending on value of goods purchased\n",
    "\n",
    "goodsValue = float(input(\"Enter value of goods purchased: \"))\n",
    "\n",
    "if goodsValue >= 200:\n",
    "    discount = 0.1*goodsValue\n",
    "elif goodsValue >= 100:\n",
    "    discount = 0.05*goodsValue\n",
    "else:\n",
    "    discount = 0\n",
    "\n",
    "amountOwed = goodsValue - discount\n",
    "print(\"Value of goods:\",goodsValue,\" Discount:\",discount, \\\n",
    "      \" Amount owing:\",amountOwed)"
   ]
  },
  {
   "cell_type": "markdown",
   "metadata": {},
   "source": [
    "5.Write a program to calculate car park charges. Up to 2 hours costs 3.5 pounds, up to 4 hours 5 pounds, up to 12 hours -10 pounds. The driver enters the number of hours they require and the machine prints the current time, expire time and charge. "
   ]
  },
  {
   "cell_type": "markdown",
   "metadata": {},
   "source": [
    "Time now: Wed Mar 8 15:47:46 2017\n",
    "\n",
    "Expires: Thu Mar 9 03:47:46 2017\n",
    "\n",
    "Charge = 10.00"
   ]
  },
  {
   "cell_type": "markdown",
   "metadata": {},
   "source": [
    "Tip: Use the Python library function \"time\" by writing \"import time\""
   ]
  },
  {
   "cell_type": "markdown",
   "metadata": {},
   "source": [
    "The time in seconds since January 1 st 1970 is given by : currrentTime = time.time()"
   ]
  },
  {
   "cell_type": "markdown",
   "metadata": {},
   "source": [
    "currentTimeFormatted = time.ctime(currentTime)"
   ]
  },
  {
   "cell_type": "code",
   "execution_count": null,
   "metadata": {},
   "outputs": [],
   "source": [
    "#Program name: Ch 3 Exercise 5 car parking charges.py\n",
    "#Program calculates the car parking charge and prints a ticket\n",
    "#showing current time, time of expiry and charge\n",
    "#Current time is imported using Python's library module\n",
    "\n",
    "import time\n",
    "\n",
    "startTimeInSecs = time.time()\n",
    "startTimeFormatted = time.ctime(startTimeInSecs)\n",
    "\n",
    "hours = int(input(\"Input hours parking required (2, 4 or 12): \"))\n",
    "numSecs = hours *60*60\n",
    "if hours == 2:\n",
    "    charge = 3.50\n",
    "elif hours == 4:\n",
    "    charge = 5.00\n",
    "else:\n",
    "    charge = 10.00\n",
    "endTimeInSecs = startTimeInSecs + numSecs\n",
    "print(\"\\nTime now: \", startTimeFormatted)\n",
    "endTimeFormatted = time.ctime(endTimeInSecs)\n",
    "print (\"Expires:  \", endTimeFormatted)\n",
    "print(\"Charge = {:.2f}\".format(charge))\n"
   ]
  }
 ],
 "metadata": {
  "kernelspec": {
   "display_name": "Python 3",
   "language": "python",
   "name": "python3"
  },
  "language_info": {
   "codemirror_mode": {
    "name": "ipython",
    "version": 3
   },
   "file_extension": ".py",
   "mimetype": "text/x-python",
   "name": "python",
   "nbconvert_exporter": "python",
   "pygments_lexer": "ipython3",
   "version": "3.7.3"
  }
 },
 "nbformat": 4,
 "nbformat_minor": 2
}
